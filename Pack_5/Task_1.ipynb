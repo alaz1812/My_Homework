{
 "cells": [
  {
   "cell_type": "code",
   "execution_count": null,
   "metadata": {
    "collapsed": true
   },
   "outputs": [],
   "source": [
    "# У меня ничего не получается с этим ipython!\n",
    "\n",
    "print('Введите Т1, Т2, Т3: ')  # Ввод данных\n",
    "t1,t2,t3 = map(int,input().split())\n",
    "\n",
    "s = int(input('Введите количество кругов: '))  # Для боле точного расчета\n",
    "\n",
    "x = []\n",
    "y = []\n",
    "t = 0\n",
    "m1 = 0\n",
    "m2 = 0\n",
    "p = 0\n",
    "f = False\n",
    "for i in range(s):\n",
    "    if f:\n",
    "        m2 = m2 + t3\n",
    "        p = p + max(m2 - m1, m1)\n",
    "        x.append(i)\n",
    "        y.append(p / i)\n",
    "        m2 = t2 + max(t1, t3)\n",
    "        m1 = t2 + max(t1, t3)\n",
    "        t = t + t2 + max(t1, t3)\n",
    "    else:\n",
    "        f = True\n",
    "        m2 = t1 + t2\n",
    "        t = t + t1 + t2\n",
    "x.append(s)\n",
    "\n",
    "y.append((t + t3) / s)\n",
    "print('Cреднее время одного круга: ', (t + t3) / s)\n",
    "\n",
    "# тут идет вывод\n",
    "\n",
    "# Второй ввод\n",
    "\n",
    "import matplotlib.pyplot as plt\n",
    "import numpy as np\n",
    "%matplotlib inline\n",
    "plt.title('Зависимость среднего времени одного круга от их количества: ')\n",
    "plt.plot(x, y, color = 'red')"
   ]
  }
 ],
 "metadata": {
  "kernelspec": {
   "display_name": "Python 2",
   "language": "python",
   "name": "python2"
  },
  "language_info": {
   "codemirror_mode": {
    "name": "ipython",
    "version": 2
   },
   "file_extension": ".py",
   "mimetype": "text/x-python",
   "name": "python",
   "nbconvert_exporter": "python",
   "pygments_lexer": "ipython2",
   "version": "2.7.6"
  }
 },
 "nbformat": 4,
 "nbformat_minor": 0
}
