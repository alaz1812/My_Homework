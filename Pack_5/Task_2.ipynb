{
 "cells": [
  {
   "cell_type": "code",
   "execution_count": null,
   "metadata": {
    "collapsed": true
   },
   "outputs": [],
   "source": [
    "# Вероятность встречи с Константином = ((1-0.11)^5*0.11 (Пять раз не видит Клава а на шестой раз баг вылетает константину)\n",
    "# У меня ничего не получается с этим ipython!\n",
    "\n",
    "import random\n",
    "random.seed()\n",
    "k = 0\n",
    "x = []\n",
    "y = []\n",
    "z = []\n",
    "d = int(input(\"Сколько дней Инокентий будет пытаться завоевать сердце Клавы?: \"))\n",
    "for i in range(d):\n",
    "    f = False\n",
    "    for j in range(5):\n",
    "        a = random.randint(1, 100)\n",
    "        if a <= 11:\n",
    "            f = True\n",
    "            break\n",
    "    if not f:   \n",
    "        a = random.randint(1, 100)\n",
    "        if a <= 11:\n",
    "            f = True\n",
    "            k = k + 1\n",
    "            continue\n",
    "    else: \n",
    "        y.append(k / (i+1))\n",
    "        x.append(i)\n",
    "        z.append(((0.89)**5)*0.11)\n",
    "        continue\n",
    "    y.append(k / (i+1))\n",
    "    x.append(i)\n",
    "    z.append(((0.89)**5)*0.11)\n",
    "print(\"Вероятность встречи с Константином: \", k  / d)\n",
    "\n",
    "# Мне Даже не перейти в следующее окошко!\n",
    "\n",
    "# Тут он выведет что-то вроде Вероятность встречи с Константином: 0,06666\n",
    "\n",
    "# Потом я прошу его построить график\n",
    "\n",
    "import matplotlib.pyplot as plt\n",
    "import numpy as np\n",
    "%matplotlib inline\n",
    "plt.title(\"Зависимость вероятности встречи с Константином от кол-ва попыток: \")\n",
    "plt.plot(x, y, color = 'red')\n",
    "plt.plot(x, z, color  = 'blue')\n",
    "\n",
    "\n",
    "# А он должен построить график"
   ]
  }
 ],
 "metadata": {
  "kernelspec": {
   "display_name": "Python 2",
   "language": "python",
   "name": "python2"
  },
  "language_info": {
   "codemirror_mode": {
    "name": "ipython",
    "version": 2
   },
   "file_extension": ".py",
   "mimetype": "text/x-python",
   "name": "python",
   "nbconvert_exporter": "python",
   "pygments_lexer": "ipython2",
   "version": "2.7.6"
  }
 },
 "nbformat": 4,
 "nbformat_minor": 0
}
